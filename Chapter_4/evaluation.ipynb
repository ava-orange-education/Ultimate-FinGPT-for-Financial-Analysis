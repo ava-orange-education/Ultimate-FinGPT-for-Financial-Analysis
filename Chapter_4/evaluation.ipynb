{
 "cells": [
  {
   "cell_type": "code",
   "execution_count": null,
   "metadata": {},
   "outputs": [],
   "source": [
    "import numpy as np\n",
    "import pandas as pd\n",
    "from scipy.stats import pearsonr\n",
    "import matplotlib.pyplot as plt\n",
    "\n",
    "#  Simulated Sentiment Scores from the model\n",
    "# Positive -> Bullish, Negative -> Bearish\n",
    "model_predictions = np.array([-0.7, 0.2, 0.5, -0.3, 0.8, -0.9, 0.1, 0.4, -0.6, 0.7])  \n",
    "\n",
    "# Actual TSLA Stock Movements (Daily/Weekly Returns in %)\n",
    "actual_movements = np.array([-1.2, 0.5, 1.0, -0.5, 2.0, -1.5, 0.2, 0.6, -0.8, 1.5])  \n",
    "\n",
    "# Compute Pearson Correlation (ρ) → Measures how well sentiment correlates with stock movement\n",
    "pearson_corr, _ = pearsonr(model_predictions, actual_movements)\n",
    "print(f\"📈 Pearson Correlation (ρ) = {pearson_corr:.4f}\")\n",
    "\n",
    "# Compute Directional Accuracy → Measures percentage of correct up/down predictions\n",
    "predicted_trend = np.sign(model_predictions)  # Convert sentiment scores to trend (+1, 0, -1)\n",
    "actual_trend = np.sign(actual_movements)      # Convert stock returns to trend (+1, 0, -1)\n",
    "\n",
    "directional_accuracy = np.mean(predicted_trend == actual_trend) * 100\n",
    "print(f\"📊 Directional Accuracy = {directional_accuracy:.2f}%\")\n",
    "\n",
    "#  Plot Comparison of Predicted vs. Actual Movements\n",
    "plt.figure(figsize=(10,5))\n",
    "plt.plot(actual_movements, label=\"Actual TSLA Movements\", marker=\"o\")\n",
    "plt.plot(model_predictions, label=\"Predicted Sentiment Trend\", marker=\"s\", linestyle=\"dashed\")\n",
    "plt.axhline(0, color='black', linestyle=\"dotted\")\n",
    "plt.legend()\n",
    "plt.title(\"TSLA: Predicted vs. Actual Market Movements\")\n",
    "plt.xlabel(\"Time (Days/Weeks)\")\n",
    "plt.ylabel(\"Movement (Sentiment vs. Stock Return)\")\n",
    "plt.show()\n"
   ]
  }
 ],
 "metadata": {
  "kernelspec": {
   "display_name": ".venv",
   "language": "python",
   "name": "python3"
  },
  "language_info": {
   "name": "python",
   "version": "3.11.9"
  }
 },
 "nbformat": 4,
 "nbformat_minor": 2
}
