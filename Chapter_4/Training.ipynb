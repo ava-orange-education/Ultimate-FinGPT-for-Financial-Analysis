{
 "cells": [
  {
   "cell_type": "code",
   "execution_count": null,
   "metadata": {},
   "outputs": [],
   "source": [
    "import torch\n",
    "import torch.nn as nn\n",
    "import torch.optim as optim\n",
    "from torch.optim.lr_scheduler import LambdaLR, StepLR\n",
    "import numpy as np\n",
    "\n"
   ]
  },
  {
   "cell_type": "code",
   "execution_count": null,
   "metadata": {},
   "outputs": [],
   "source": [
    "# create a simple model  \n",
    "class SimpleTransformer(nn.Module):\n",
    "    def __init__(self):\n",
    "        super(SimpleTransformer, self).__init__()\n",
    "        self.linear = nn.Linear(768, 768)  # (define as many layers needed)\n",
    "\n",
    "    def forward(self, x):\n",
    "        return self.linear(x)"
   ]
  },
  {
   "cell_type": "code",
   "execution_count": null,
   "metadata": {},
   "outputs": [],
   "source": [
    "# Initialize model and define the optimizer to minimise loss\n",
    "model = SimpleTransformer()\n",
    "#optimiser with learning rate 5e-5\n",
    "optimizer = optim.AdamW(model.parameters(), lr=5e-5)"
   ]
  },
  {
   "cell_type": "markdown",
   "metadata": {},
   "source": [
    "Define a warm-up strategy (first 5 epochs linearly increasing)"
   ]
  },
  {
   "cell_type": "code",
   "execution_count": null,
   "metadata": {},
   "outputs": [],
   "source": [
    "\n",
    "def warmup_schedule(epoch, warmup_epochs=5, base_lr=5e-6, target_lr=5e-5):\n",
    "    if epoch < warmup_epochs:\n",
    "        return base_lr + (target_lr - base_lr) * (epoch / warmup_epochs)\n",
    "    return target_lr\n",
    "\n",
    "# Define scheduler with warm-up and step decay\n",
    "warmup_scheduler = LambdaLR(optimizer, lr_lambda=lambda epoch: warmup_schedule(epoch))\n",
    "decay_scheduler = StepLR(optimizer, step_size=10, gamma=0.5)  \n",
    "\n"
   ]
  },
  {
   "cell_type": "code",
   "execution_count": null,
   "metadata": {},
   "outputs": [],
   "source": [
    "# Simulate Training Loop\n",
    "num_epochs = 30\n",
    "for epoch in range(num_epochs):\n",
    "    # Apply warm-up phase\n",
    "    if epoch < 5:\n",
    "        warmup_scheduler.step()\n",
    "    else:\n",
    "        decay_scheduler.step()\n",
    "    \n",
    "    # Print LR \n",
    "    current_lr = optimizer.param_groups[0]['lr']\n",
    "    print(f\"Epoch {epoch+1}: Learning Rate = {current_lr:.6e}\")\n",
    "\n",
    "    # Dummy training step\n",
    "    optimizer.zero_grad()\n",
    "    loss = torch.tensor(0.5, requires_grad=True)  # Fake loss for demonstration\n",
    "    loss.backward()\n",
    "    optimizer.step()\n"
   ]
  }
 ],
 "metadata": {
  "kernelspec": {
   "display_name": ".venv",
   "language": "python",
   "name": "python3"
  },
  "language_info": {
   "name": "python",
   "version": "3.11.9"
  }
 },
 "nbformat": 4,
 "nbformat_minor": 2
}
