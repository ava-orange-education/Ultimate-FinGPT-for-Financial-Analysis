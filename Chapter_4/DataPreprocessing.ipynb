{
 "cells": [
  {
   "cell_type": "markdown",
   "metadata": {},
   "source": [
    "Do not forget to pip install required packages as mentioned in the previous chapters"
   ]
  },
  {
   "cell_type": "code",
   "execution_count": 4,
   "metadata": {},
   "outputs": [
    {
     "name": "stderr",
     "output_type": "stream",
     "text": [
      "[nltk_data] Downloading package punkt to\n",
      "[nltk_data]     C:\\Users\\santh\\AppData\\Roaming\\nltk_data...\n",
      "[nltk_data]   Unzipping tokenizers\\punkt.zip.\n"
     ]
    },
    {
     "data": {
      "text/plain": [
       "True"
      ]
     },
     "execution_count": 4,
     "metadata": {},
     "output_type": "execute_result"
    }
   ],
   "source": [
    "from transformers import pipeline, AutoTokenizer\n",
    "import pandas as pd\n",
    "import numpy as np\n",
    "from sklearn.preprocessing import OneHotEncoder, StandardScaler, MinMaxScaler\n",
    "from nltk.tokenize import word_tokenize\n",
    "import nltk\n",
    "nltk.download('punkt')"
   ]
  },
  {
   "cell_type": "code",
   "execution_count": 5,
   "metadata": {},
   "outputs": [],
   "source": [
    "# Sample dataset combining financial time-series data with news data\n",
    "combined_data = [\n",
    "    {\"Date\": \"2025-02-27\", \"Ticker\": \"AAPL\", \"Open\": 150.2, \"High\": 155.3, \"Low\": 148.5, \"Close\": 154.1, \"Volume\": 5000000, \"News_Headline\": \"Apple sees record revenue growth amid strong iPhone sales.\", \"Sentiment_Score\": 1.5},\n",
    "    {\"Date\": \"2025-02-14\", \"Ticker\": \"GOOGL\", \"Open\": 2700.5, \"High\": 2750.0, \"Low\": 2680.2, \"Close\": 2725.3, \"Volume\": 3000000, \"News_Headline\": \"Google faces antitrust lawsuit, market reacts negatively.\", \"Sentiment_Score\": -1.2},\n",
    "    {\"Date\": \"2025-02-16\", \"Ticker\": \"MSFT\", \"Open\": 320.1, \"High\": 330.5, \"Low\": 318.2, \"Close\": 328.9, \"Volume\": 4000000, \"News_Headline\": \"Microsoft launches AI-powered cloud service, boosting stock.\", \"Sentiment_Score\": 1.2},\n",
    "    {\"Date\": \"2025-02-27\", \"Ticker\": \"AAPL\", \"Open\": 151.0, \"High\": 152.7, \"Low\": 149.9, \"Close\": 151.8, \"Volume\": 5200000, \"News_Headline\": \"Market uncertainty rises as inflation concerns dominate.\", \"Sentiment_Score\": -0.8},\n",
    "    {\"Date\": \"2025-02-15\", \"Ticker\": \"GOOGL\", \"Open\": 2695.3, \"High\": 2705.7, \"Low\": 2678.9, \"Close\": 2682.4, \"Volume\": 2800000, \"News_Headline\": \"Tech stocks slump as interest rates increase.\", \"Sentiment_Score\": -1.5},\n",
    "    {\"Date\": \"2025-02-20\", \"Ticker\": \"MSFT\", \"Open\": 322.8, \"High\": 326.0, \"Low\": 320.5, \"Close\": 324.2, \"Volume\": 3800000, \"News_Headline\": \"Investors optimistic after Fed signals rate cuts.\", \"Sentiment_Score\": 1.8}\n",
    "]\n"
   ]
  },
  {
   "cell_type": "code",
   "execution_count": null,
   "metadata": {},
   "outputs": [],
   "source": [
    "# Convert to DataFrame\n",
    "news_df = pd.DataFrame(combined_data)\n",
    "\n",
    "# Data Cleaning and Preprocessing\n",
    "## Tokenization\n",
    "news_df['Tokenized_News'] = news_df['News_Headline'].apply(word_tokenize)\n",
    "\n",
    "## Subword Tokenization using BPE\n",
    "tokenizer = AutoTokenizer.from_pretrained(\"ProsusAI/finbert\")\n",
    "news_df['BPE_Tokenized_News'] = news_df['News_Headline'].apply(lambda x: tokenizer.tokenize(x))"
   ]
  },
  {
   "cell_type": "code",
   "execution_count": null,
   "metadata": {},
   "outputs": [],
   "source": [
    "## Handling Categorical Data (One-Hot Encoding for Ticker)\n",
    "one_hot_encoder = OneHotEncoder(sparse=False, handle_unknown='ignore')\n",
    "ticker_encoded = one_hot_encoder.fit_transform(news_df[['Ticker']])\n",
    "ticker_encoded_df = pd.DataFrame(ticker_encoded, columns=one_hot_encoder.get_feature_names_out(['Ticker']))\n",
    "news_df = news_df.drop(columns=['Ticker']).join(ticker_encoded_df)\n",
    "\n",
    "## Standardizing and Normalizing Numerical Data\n",
    "scaler = StandardScaler()\n",
    "numerical_columns = ['Open', 'High', 'Low', 'Close', 'Volume', 'Sentiment_Score']\n",
    "news_df[numerical_columns] = scaler.fit_transform(news_df[numerical_columns])\n",
    "\n",
    "minmax_scaler = MinMaxScaler()\n",
    "news_df[numerical_columns] = minmax_scaler.fit_transform(news_df[numerical_columns])\n"
   ]
  },
  {
   "cell_type": "code",
   "execution_count": null,
   "metadata": {},
   "outputs": [],
   "source": [
    "# Load pre-trained sentiment analysis model (FinBERT or a finance-tuned model)\n",
    "sentiment_pipeline = pipeline(\"sentiment-analysis\", model=\"ProsusAI/finbert\")\n",
    "\n",
    "# Predict sentiment using finance-tuned model\n",
    "def classify_sentiment(text):\n",
    "    result = sentiment_pipeline(text)\n",
    "    return result[0]['label']\n",
    "\n",
    "# Apply classification to dataset\n",
    "news_df['Predicted_Sentiment'] = news_df['News_Headline'].apply(classify_sentiment)\n",
    "\n",
    "news_df.head()"
   ]
  }
 ],
 "metadata": {
  "kernelspec": {
   "display_name": ".venv",
   "language": "python",
   "name": "python3"
  },
  "language_info": {
   "codemirror_mode": {
    "name": "ipython",
    "version": 3
   },
   "file_extension": ".py",
   "mimetype": "text/x-python",
   "name": "python",
   "nbconvert_exporter": "python",
   "pygments_lexer": "ipython3",
   "version": "3.11.9"
  }
 },
 "nbformat": 4,
 "nbformat_minor": 2
}
