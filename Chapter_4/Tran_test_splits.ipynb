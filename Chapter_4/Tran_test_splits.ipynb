{
 "cells": [
  {
   "cell_type": "code",
   "execution_count": null,
   "metadata": {},
   "outputs": [],
   "source": [
    "from transformers import pipeline, AutoTokenizer\n",
    "import pandas as pd\n",
    "import numpy as np\n",
    "from sklearn.preprocessing import OneHotEncoder, StandardScaler, MinMaxScaler\n",
    "from sklearn.model_selection import train_test_split\n",
    "from nltk.tokenize import word_tokenize\n",
    "import nltk\n",
    "nltk.download('punkt')\n",
    "nltk.download('wordnet')\n",
    "nltk.download('omw-1.4')\n",
    "nltk.download('punkt_tab')\n",
    "\n"
   ]
  },
  {
   "cell_type": "code",
   "execution_count": null,
   "metadata": {},
   "outputs": [],
   "source": [
    "# Generate synthetic dataset with 20+ data points\n",
    "def generate_data():\n",
    "    tickers = [\"AAPL\", \"GOOGL\", \"MSFT\", \"TSLA\", \"AMZN\"]\n",
    "    headlines = [\n",
    "        \"Apple announces record profits in Q1.\", \"Google under investigation for antitrust violations.\",\n",
    "        \"Microsoft expands cloud computing capabilities.\", \"Tesla reveals new AI-powered autopilot system.\",\n",
    "        \"Amazon launches drone-based delivery service.\", \"Stock market crashes amid global recession fears.\",\n",
    "        \"Federal Reserve announces interest rate hikes.\", \"Cryptocurrency markets hit all-time high.\",\n",
    "        \"Tech industry layoffs increase amid economic downturn.\", \"Nasdaq reaches record highs.\",\n",
    "        \"Apple plans to invest $100 billion in AI research.\", \"Google unveils a new quantum computing breakthrough.\",\n",
    "        \"Microsoft teams up with OpenAI for advanced AI models.\", \"Tesla stock soars after strong earnings report.\",\n",
    "        \"Amazon struggles with logistics disruptions in supply chain.\", \"Stock market sees biggest drop in five years.\",\n",
    "        \"Economic recovery signals boost in stock prices.\", \"US government imposes new tech regulations.\",\n",
    "        \"AI-driven automation expected to impact job markets.\", \"Investors optimistic about market recovery.\"\n",
    "    ]\n",
    "    np.random.seed(42)\n",
    "    data = []\n",
    "    for i in range(20):\n",
    "        data.append({\n",
    "            \"Date\": f\"2025-02-{10+i}\",\n",
    "            \"Ticker\": np.random.choice(tickers),\n",
    "            \"Open\": round(np.random.uniform(100, 3000), 2),\n",
    "            \"High\": round(np.random.uniform(100, 3000), 2),\n",
    "            \"Low\": round(np.random.uniform(100, 3000), 2),\n",
    "            \"Close\": round(np.random.uniform(100, 3000), 2),\n",
    "            \"Volume\": np.random.randint(1000000, 50000000),\n",
    "            \"News_Headline\": np.random.choice(headlines),\n",
    "            \"Sentiment_Score\": round(np.random.uniform(-2, 2), 2)\n",
    "        })\n",
    "    return data\n",
    "\n",
    "# Convert to DataFrame\n",
    "news_df = pd.DataFrame(generate_data())\n"
   ]
  },
  {
   "cell_type": "code",
   "execution_count": null,
   "metadata": {},
   "outputs": [],
   "source": [
    "# Data Cleaning and Preprocessing\n",
    "## Tokenization\n",
    "news_df['Tokenized_News'] = news_df['News_Headline'].apply(word_tokenize)\n",
    "\n",
    "## Subword Tokenization using BPE\n",
    "tokenizer = AutoTokenizer.from_pretrained(\"ProsusAI/finbert\")\n",
    "news_df['BPE_Tokenized_News'] = news_df['News_Headline'].apply(lambda x: tokenizer.tokenize(x))\n",
    "\n",
    "## Handling Categorical Data (One-Hot Encoding for Ticker)\n",
    "one_hot_encoder = OneHotEncoder(sparse_output=False, handle_unknown='ignore')\n",
    "ticker_encoded = one_hot_encoder.fit_transform(news_df[['Ticker']])\n",
    "ticker_encoded_df = pd.DataFrame(ticker_encoded, columns=one_hot_encoder.get_feature_names_out(['Ticker']))\n",
    "news_df = news_df.drop(columns=['Ticker']).join(ticker_encoded_df)\n",
    "\n",
    "## Standardizing and Normalizing Numerical Data\n",
    "scaler = StandardScaler()\n",
    "numerical_columns = ['Open', 'High', 'Low', 'Close', 'Volume', 'Sentiment_Score']\n",
    "news_df[numerical_columns] = scaler.fit_transform(news_df[numerical_columns])\n",
    "\n",
    "minmax_scaler = MinMaxScaler()\n",
    "news_df[numerical_columns] = minmax_scaler.fit_transform(news_df[numerical_columns])\n"
   ]
  },
  {
   "cell_type": "code",
   "execution_count": null,
   "metadata": {},
   "outputs": [],
   "source": [
    "\n",
    "\n",
    "# Splitting dataset into training and validation sets\n",
    "train_df, val_df = train_test_split(news_df, test_size=0.2, random_state=42)\n",
    "\n"
   ]
  },
  {
   "cell_type": "code",
   "execution_count": null,
   "metadata": {},
   "outputs": [],
   "source": [
    "# Load pre-trained sentiment analysis model (FinBERT or a finance-tuned model)\n",
    "sentiment_pipeline = pipeline(\"sentiment-analysis\", model=\"ProsusAI/finbert\")"
   ]
  },
  {
   "cell_type": "code",
   "execution_count": null,
   "metadata": {},
   "outputs": [],
   "source": [
    "# Predict sentiment using finance-tuned model\n",
    "def classify_sentiment(text):\n",
    "    result = sentiment_pipeline(text)\n",
    "    return result[0]['label']\n",
    "\n",
    "# Apply classification to training and validation sets\n",
    "train_df['Predicted_Sentiment'] = train_df['News_Headline'].apply(classify_sentiment)\n",
    "val_df['Predicted_Sentiment'] = val_df['News_Headline'].apply(classify_sentiment)\n",
    "\n",
    "news_df.head()"
   ]
  }
 ],
 "metadata": {
  "kernelspec": {
   "display_name": ".venv",
   "language": "python",
   "name": "python3"
  },
  "language_info": {
   "name": "python",
   "version": "3.11.9"
  }
 },
 "nbformat": 4,
 "nbformat_minor": 2
}
