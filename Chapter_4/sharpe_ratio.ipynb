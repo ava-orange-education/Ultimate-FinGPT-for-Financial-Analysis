{
 "cells": [
  {
   "cell_type": "code",
   "execution_count": null,
   "metadata": {},
   "outputs": [],
   "source": [
    "import numpy as np\n",
    "\n",
    "# Example data\n",
    "returns = np.array([0.02, 0.03, 0.01, 0.04, 0.05])\n",
    "risk_free_rate = 0.01\n",
    "\n",
    "# Calculate Sharpe Ratio\n",
    "excess_returns = returns - risk_free_rate\n",
    "sharpe_ratio = np.mean(excess_returns) / np.std(excess_returns)\n",
    "print(f\"Sharpe Ratio: {sharpe_ratio}\")\n"
   ]
  }
 ],
 "metadata": {
  "kernelspec": {
   "display_name": ".venv",
   "language": "python",
   "name": "python3"
  },
  "language_info": {
   "name": "python",
   "version": "3.11.9"
  }
 },
 "nbformat": 4,
 "nbformat_minor": 2
}
