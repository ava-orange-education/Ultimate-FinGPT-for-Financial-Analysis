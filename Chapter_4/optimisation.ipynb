{
 "cells": [
  {
   "cell_type": "code",
   "execution_count": null,
   "metadata": {},
   "outputs": [],
   "source": [
    "import torch\n",
    "import torch.nn as nn\n",
    "import torch.optim as optim\n",
    "from torch.optim.lr_scheduler import LambdaLR, StepLR\n",
    "\n",
    "\n",
    "\n",
    "\n",
    "\n",
    "\n",
    "\n",
    "    "
   ]
  },
  {
   "cell_type": "code",
   "execution_count": null,
   "metadata": {},
   "outputs": [],
   "source": [
    "# # create a simple model \n",
    "class SimpleTransformer(nn.Module):\n",
    "    def __init__(self):\n",
    "        super(SimpleTransformer, self).__init__()\n",
    "        self.linear = nn.Linear(768, 768)  # # (define as many layers needed)\n",
    "        self.dropout = nn.Dropout(0.1)  \n",
    "\n",
    "    def forward(self, x):\n",
    "        return self.dropout(self.linear(x))\n"
   ]
  },
  {
   "cell_type": "code",
   "execution_count": null,
   "metadata": {},
   "outputs": [],
   "source": [
    "# Initialize model - Do not forget to select a GPU (T4 on Colab)\n",
    "model = SimpleTransformer()\n",
    "device = torch.device(\"cuda\" if torch.cuda.is_available() else \"cpu\")\n",
    "model.to(device)"
   ]
  },
  {
   "cell_type": "code",
   "execution_count": null,
   "metadata": {},
   "outputs": [],
   "source": [
    "# Optimizer with weight decay -Regularization\n",
    "optimizer = optim.AdamW(model.parameters(), lr=5e-5, weight_decay=0.01)\n",
    "\n",
    "# Learning Rate Scheduler  -> Warm-up  & Step Decay\n",
    "def warmup_schedule(epoch, warmup_epochs=5, base_lr=5e-6, target_lr=5e-5):\n",
    "    if epoch < warmup_epochs:\n",
    "        return base_lr + (target_lr - base_lr) * (epoch / warmup_epochs)\n",
    "    return target_lr\n",
    "\n",
    "# define a warm up\n",
    "warmup_scheduler = LambdaLR(optimizer, lr_lambda=lambda epoch: warmup_schedule(epoch))\n",
    "decay_scheduler = StepLR(optimizer, step_size=10, gamma=0.5)"
   ]
  },
  {
   "cell_type": "code",
   "execution_count": null,
   "metadata": {},
   "outputs": [],
   "source": [
    "# Training Parameters\n",
    "batch_size = 32  \n",
    "gradient_accumulation_steps = 4  #  a larger batch size (128)\n",
    "\n",
    "# Dummy Training Loop\n",
    "num_epochs = 30\n",
    "for epoch in range(num_epochs):\n",
    "    optimizer.zero_grad()\n",
    "    total_loss = 0\n",
    "\n",
    "    for step in range(120):  # Assuming 120 batches per epoch\n",
    "        inputs = torch.randn(batch_size, 768).to(device)  # Fake data\n",
    "        outputs = model(inputs)\n",
    "        loss = torch.mean(outputs)  # Dummy loss\n",
    "\n",
    "        loss = loss / gradient_accumulation_steps  # Scale loss for accumulation\n",
    "        loss.backward()\n",
    "        total_loss += loss.item()\n",
    "\n",
    "        if (step + 1) % gradient_accumulation_steps == 0:\n",
    "            # Gradient Clipping\n",
    "            torch.nn.utils.clip_grad_norm_(model.parameters(), max_norm=1.0)  \n",
    "            optimizer.step()\n",
    "            optimizer.zero_grad()\n",
    "\n",
    "    # Apply Warm-up  or Decay\n",
    "    if epoch < 5:\n",
    "        warmup_scheduler.step()\n",
    "    else:\n",
    "        decay_scheduler.step()\n",
    "    # Print Learning Rate & Loss\n",
    "    current_lr = optimizer.param_groups[0]['lr']\n",
    "    print(f\"Epoch {epoch+1}: LR = {current_lr:.6e}, Loss = {total_loss:.4f}\")"
   ]
  },
  {
   "cell_type": "code",
   "execution_count": null,
   "metadata": {},
   "outputs": [],
   "source": [
    "\n"
   ]
  }
 ],
 "metadata": {
  "kernelspec": {
   "display_name": ".venv",
   "language": "python",
   "name": "python3"
  },
  "language_info": {
   "name": "python",
   "version": "3.11.9"
  }
 },
 "nbformat": 4,
 "nbformat_minor": 2
}
