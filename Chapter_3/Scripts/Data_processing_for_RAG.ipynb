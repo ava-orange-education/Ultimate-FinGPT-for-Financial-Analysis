{
  "nbformat": 4,
  "nbformat_minor": 0,
  "metadata": {
    "colab": {
      "provenance": []
    },
    "kernelspec": {
      "name": "python3",
      "display_name": "Python 3"
    },
    "language_info": {
      "name": "python"
    }
  },
  "cells": [
    {
      "cell_type": "code",
      "execution_count": 1,
      "metadata": {
        "colab": {
          "base_uri": "https://localhost:8080/"
        },
        "id": "PUBozzMdSR6-",
        "outputId": "9b8223cf-9793-4d12-fe0b-4a796d2c48f9"
      },
      "outputs": [
        {
          "output_type": "stream",
          "name": "stdout",
          "text": [
            "Collecting rank_bm25\n",
            "  Downloading rank_bm25-0.2.2-py3-none-any.whl.metadata (3.2 kB)\n",
            "Requirement already satisfied: nltk in /usr/local/lib/python3.11/dist-packages (3.9.1)\n",
            "Requirement already satisfied: numpy in /usr/local/lib/python3.11/dist-packages (from rank_bm25) (1.26.4)\n",
            "Requirement already satisfied: click in /usr/local/lib/python3.11/dist-packages (from nltk) (8.1.8)\n",
            "Requirement already satisfied: joblib in /usr/local/lib/python3.11/dist-packages (from nltk) (1.4.2)\n",
            "Requirement already satisfied: regex>=2021.8.3 in /usr/local/lib/python3.11/dist-packages (from nltk) (2024.11.6)\n",
            "Requirement already satisfied: tqdm in /usr/local/lib/python3.11/dist-packages (from nltk) (4.67.1)\n",
            "Downloading rank_bm25-0.2.2-py3-none-any.whl (8.6 kB)\n",
            "Installing collected packages: rank_bm25\n",
            "Successfully installed rank_bm25-0.2.2\n"
          ]
        }
      ],
      "source": [
        "!pip install rank_bm25 nltk\n"
      ]
    },
    {
      "cell_type": "code",
      "source": [
        "from rank_bm25 import BM25Okapi\n",
        "from nltk.tokenize import word_tokenize\n",
        "import nltk\n",
        "import re\n",
        "nltk.download('punkt')"
      ],
      "metadata": {
        "id": "f6Z-3Vt8pnh1"
      },
      "execution_count": null,
      "outputs": []
    },
    {
      "cell_type": "code",
      "source": [
        "\n",
        "\n",
        "# Define a minimal corpus\n",
        "corpus = [\n",
        "    \"this is a test document about revenue increase\",\n",
        "    \"another document with different content\",\n",
        "    \"financial report shows revenue increase clearly\"\n",
        "]\n",
        "\n",
        "# Tokenize the corpus (lowercasing for consistency)\n",
        "tokenized_corpus = [word_tokenize(doc.lower()) for doc in corpus]\n",
        "\n",
        "# Build BM25 index\n",
        "bm25 = BM25Okapi(tokenized_corpus)\n",
        "\n",
        "# Define a query that should match the financial report\n",
        "query = \"revenue increase\"\n",
        "query_tokens = word_tokenize(query.lower())\n",
        "\n",
        "# Get BM25 scores\n",
        "scores = bm25.get_scores(query_tokens)\n",
        "print(\"BM25 Scores for query '{}':\".format(query))\n",
        "print(scores)\n"
      ],
      "metadata": {
        "colab": {
          "base_uri": "https://localhost:8080/"
        },
        "id": "8bt1iSaVV1-A",
        "outputId": "45eb4b60-3d25-4f51-a25a-9c2ffaedd684"
      },
      "execution_count": 7,
      "outputs": [
        {
          "output_type": "stream",
          "name": "stdout",
          "text": [
            "BM25 Scores for query 'revenue increase':\n",
            "[0.14273069 0.         0.16350551]\n"
          ]
        },
        {
          "output_type": "stream",
          "name": "stderr",
          "text": [
            "[nltk_data] Downloading package punkt to /root/nltk_data...\n",
            "[nltk_data]   Package punkt is already up-to-date!\n"
          ]
        }
      ]
    },
    {
      "cell_type": "code",
      "source": [
        "\n",
        "\n",
        "#\n",
        "# Document A (financial report) with the query tokens. A lot of noise\n",
        "doc_a = (\"Financial Report: The revenue increased by 10% in Q1 2024 due to robust sales performance. \"\n",
        "         \"[Footer: Confidential Report] Note: All figures are in USD.[Advertisement: Visit our website] NMIMS reports the same. [Advertisement: Visit our website]\")\n",
        "\n",
        "# Document B (news archive) does not include the specific query tokens.\n",
        "doc_b = (\"News Archive: The stock market surged today, driven by investor optimism. \"\n",
        "         \"[Advertisement: Visit our website] Details: The tech sector led the gains.\")\n",
        "\n",
        "# Create a corpus of documents\n",
        "raw_docs = [doc_a, doc_b]\n",
        "\n",
        "# Clean the Documents\n",
        "def clean_document(doc):\n",
        "    cleaned = re.sub(r'\\[.*?\\]', '', doc)\n",
        "    cleaned = \" \".join(cleaned.split())\n",
        "    return cleaned\n",
        "\n",
        "cleaned_docs = [clean_document(doc) for doc in raw_docs]\n",
        "\n",
        "\n",
        "\n",
        "# Tokenise the docs raw and cleaned\n",
        "raw_tokenized = [word_tokenize(doc.lower()) for doc in raw_docs]\n",
        "cleaned_tokenized = [word_tokenize(doc.lower()) for doc in cleaned_docs]\n",
        "\n",
        "# Build  Indexes for BM25 ranking\n",
        "bm25_raw = BM25Okapi(raw_tokenized)\n",
        "bm25_cleaned = BM25Okapi(cleaned_tokenized)\n",
        "\n",
        "# Sample query that has tokens in doc_a\n",
        "query = \"revenue increase in the sales performance\"\n",
        "query_tokens = word_tokenize(query.lower())\n",
        "\n",
        "raw_scores = bm25_raw.get_scores(query_tokens)\n",
        "cleaned_scores = bm25_cleaned.get_scores(query_tokens)\n",
        "\n",
        "print(\"\\nBM25 Scores for Query '{}':\".format(query))\n",
        "print(\"Raw Scores:    \", raw_scores)\n",
        "print(\"Cleaned Scores:\", cleaned_scores)\n"
      ],
      "metadata": {
        "colab": {
          "base_uri": "https://localhost:8080/"
        },
        "id": "o2pgceXYWgfv",
        "outputId": "18f0dfc2-7a58-4afa-e712-2bb9e10daa53"
      },
      "execution_count": 23,
      "outputs": [
        {
          "output_type": "stream",
          "name": "stdout",
          "text": [
            "\n",
            "BM25 Scores for Query 'revenue increase in the sales performance':\n",
            "Raw Scores:     [-0.10828243 -0.1463421 ]\n",
            "Cleaned Scores: [-0.05352898 -0.06794062]\n"
          ]
        }
      ]
    }
  ]
}