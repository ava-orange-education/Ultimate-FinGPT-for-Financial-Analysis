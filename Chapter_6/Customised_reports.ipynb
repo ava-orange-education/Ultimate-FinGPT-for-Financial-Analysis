{
 "cells": [
  {
   "cell_type": "code",
   "execution_count": null,
   "metadata": {},
   "outputs": [],
   "source": [
    "from transformers import pipeline\n",
    "\n",
    "def create_custom_income_statement(industry_keywords, financial_text):\n",
    "    # Initialize a question-answering pipeline\n",
    "    qa_pipeline = pipeline(\"question-answering\")\n",
    "\n",
    "    income_statement = {}\n",
    "\n",
    "    for keyword in industry_keywords:\n",
    "        question = f\"What is the {keyword}?\"\n",
    "        result = qa_pipeline(question=question, context=financial_text)\n",
    "        if result['answer']:\n",
    "            income_statement[keyword] = result['answer']\n",
    "\n",
    "    return income_statement\n",
    "\n",
    "# Example Usage:\n",
    "industry_keywords = [\"subscription revenue\", \"customer acquisition cost\", \"churn rate\", \"recurring revenue\"]\n",
    "financial_text = \"\"\"\n",
    "Our subscription revenue for the quarter was $5 million. Customer acquisition cost was $50 per customer.\n",
    "Our churn rate was 5%. Recurring revenue increased by 10%.\n",
    "\"\"\"\n",
    "\n",
    "custom_income_statement = create_custom_income_statement(industry_keywords, financial_text)\n",
    "print(\"Customized Income Statement:\")\n",
    "print(custom_income_statement)\n",
    "\n"
   ]
  },
  {
   "cell_type": "code",
   "execution_count": null,
   "metadata": {},
   "outputs": [],
   "source": [
    "# Example for Balance Sheet adaptation\n",
    "def create_custom_balance_sheet(asset_keywords, financial_text):\n",
    "  qa_pipeline = pipeline(\"question-answering\")\n",
    "  balance_sheet = {}\n",
    "  for keyword in asset_keywords:\n",
    "    question = f\"What is the {keyword}?\"\n",
    "    result = qa_pipeline(question=question, context=financial_text)\n",
    "    if result['answer']:\n",
    "      balance_sheet[keyword] = result['answer']\n",
    "  return balance_sheet\n",
    "\n",
    "asset_keywords = [\"digital assets\", \"server infrastructure\", \"customer data value\"]\n",
    "balance_sheet_text = \"Our digital assets are valued at $10 million. Server infrastructure is at $2 million. We value our customer data at $5 million.\"\n",
    "\n",
    "custom_balance_sheet = create_custom_balance_sheet(asset_keywords, balance_sheet_text)\n",
    "print(\"\\nCustomized Balance Sheet:\")\n",
    "print(custom_balance_sheet)"
   ]
  }
 ],
 "metadata": {
  "kernelspec": {
   "display_name": ".venv",
   "language": "python",
   "name": "python3"
  },
  "language_info": {
   "name": "python",
   "version": "3.11.9"
  }
 },
 "nbformat": 4,
 "nbformat_minor": 2
}
