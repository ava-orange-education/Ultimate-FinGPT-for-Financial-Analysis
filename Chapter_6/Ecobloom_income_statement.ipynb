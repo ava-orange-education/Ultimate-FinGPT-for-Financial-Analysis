{
 "cells": [
  {
   "cell_type": "code",
   "execution_count": null,
   "metadata": {},
   "outputs": [],
   "source": [
    "import pandas as pd\n",
    "from transformers import pipeline\n",
    "import json\n",
    "\n",
    "\n",
    "def generate_income_statement(csv_file):   \n",
    "\n",
    "    # error handling\n",
    "    try:\n",
    "        df = pd.read_csv(csv_file)\n",
    "    except FileNotFoundError:\n",
    "        return {\"error\": \"CSV file not found.\"}\n",
    "    except pd.errors.EmptyDataError:\n",
    "        return {\"error\": \"CSV file is empty.\"}\n",
    "    except Exception as e:\n",
    "        return {\"error\": f\"An error occurred while reading the CSV: {e}\"}\n",
    "\n",
    "    # Initialize a text classification pipeline \n",
    "    classifier = pipeline(\"text-classification\", model=\"distilbert-base-uncased\")\n",
    "\n",
    "    # categorize transactions\n",
    "    def categorize_transaction(description):\n",
    "        \"\"\"Categorizes a transaction description.\"\"\"\n",
    "        description_lower = description.lower()\n",
    "        if \"sale\" in description_lower or \"order\" in description_lower or \"revenue\" in description_lower:\n",
    "            return \"Revenue\"\n",
    "        elif \"fee\" in description_lower or \"cost\" in description_lower or \"expense\" in description_lower:\n",
    "            return \"Operating Expenses\"\n",
    "        else:\n",
    "            return \"Other\"\n",
    "\n",
    "    # Apply categorization \n",
    "    df[\"Category\"] = df[\"Description\"].apply(categorize_transaction)\n",
    "\n",
    "    # Calculate sums for each category\n",
    "    income_statement = {\n",
    "        \"Revenue\": df[df[\"Category\"] == \"Revenue\"][\"Amount\"].sum(),\n",
    "        \"Operating Expenses\": df[df[\"Category\"] == \"Operating Expenses\"][\"Amount\"].sum(),\n",
    "    }\n",
    "\n",
    "    # Calculate Net Income\n",
    "    income_statement[\"Net Income\"] = income_statement[\"Revenue\"] - income_statement[\"Operating Expenses\"]\n",
    "\n",
    "    return json.dumps(income_statement, indent=4)\n"
   ]
  },
  {
   "cell_type": "code",
   "execution_count": null,
   "metadata": {},
   "outputs": [],
   "source": [
    "\n",
    "\n",
    "# Generate income statement\n",
    "income_statement_json = generate_income_statement(\"eco_bloom_transactions.csv\")\n",
    "print(income_statement_json)"
   ]
  }
 ],
 "metadata": {
  "kernelspec": {
   "display_name": ".venv",
   "language": "python",
   "name": "python3"
  },
  "language_info": {
   "codemirror_mode": {
    "name": "ipython",
    "version": 3
   },
   "file_extension": ".py",
   "mimetype": "text/x-python",
   "name": "python",
   "nbconvert_exporter": "python",
   "pygments_lexer": "ipython3",
   "version": "3.11.9"
  }
 },
 "nbformat": 4,
 "nbformat_minor": 2
}
