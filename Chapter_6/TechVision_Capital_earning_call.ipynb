{
 "cells": [
  {
   "cell_type": "code",
   "execution_count": null,
   "metadata": {},
   "outputs": [],
   "source": [
    "from transformers import pipeline\n",
    "\n",
    "def analyze_earnings_call(transcript):\n",
    "\n",
    "        \n",
    "    #  Use a Hugging Face summarization model to create a summary\n",
    "    summarizer = pipeline(\"summarization\", model=\"facebook/bart-large-cnn\")\n",
    "    summary = summarizer(transcript, max_length=150, min_length=30, do_sample=False)[0]['summary_text']\n",
    "\n",
    "    # 3. Use a Hugging Face question answering model to answer questions\n",
    "    qa_pipeline = pipeline(\"question-answering\")\n",
    "    revenue_question = \"What is the revenue growth expectation?\"\n",
    "    revenue_answer = qa_pipeline(question=revenue_question, context=transcript)\n",
    "\n",
    "    # 4. Output the results\n",
    "    results = {\n",
    "        \"Summary\": summary,\n",
    "        \"Revenue Growth Expectation\": revenue_answer[\"answer\"] if revenue_answer[\"answer\"] else \"Not found in transcript.\"\n",
    "    }\n",
    "    return results"
   ]
  },
  {
   "cell_type": "code",
   "execution_count": null,
   "metadata": {},
   "outputs": [],
   "source": [
    "# Sample earnings call transcript \n",
    "sample_transcript = \"\"\"\n",
    "During this quarter, we achieved a revenue of $50 million, a 20% increase year-over-year. \n",
    "Our new AI-powered product line is driving strong demand. \n",
    "We anticipate revenue growth of 15% next year, driven by continued demand and strategic partnerships. \n",
    "We expect operating margins to remain stable. \n",
    "Our R&D investments are focused on expanding our AI capabilities.\n",
    "\"\"\""
   ]
  },
  {
   "cell_type": "code",
   "execution_count": null,
   "metadata": {},
   "outputs": [],
   "source": [
    "# Analyze the earnings call\n",
    "analysis_results = analyze_earnings_call(sample_transcript)\n",
    "\n",
    "# Print the results\n",
    "for key, value in analysis_results.items():\n",
    "    print(f\"{key}: {value}\")\n"
   ]
  }
 ],
 "metadata": {
  "kernelspec": {
   "display_name": ".venv",
   "language": "python",
   "name": "python3"
  },
  "language_info": {
   "name": "python",
   "version": "3.11.9"
  }
 },
 "nbformat": 4,
 "nbformat_minor": 2
}
