{
 "cells": [
  {
   "cell_type": "code",
   "execution_count": null,
   "metadata": {},
   "outputs": [],
   "source": [
    "#  News Articles\n",
    "news_articles = [\n",
    "    \"Company X is facing increased regulatory scrutiny due to alleged data privacy violations.\",\n",
    "    \"Supply chain disruptions are severely impacting Company Y's production and delivery schedules.\",\n",
    "    \"A new competitor has emerged, posing a significant market risk to Company Z.\",\n",
    "    \"Company A reported a major data breach, compromising sensitive customer information.\",\n",
    "    \"Company B announced a significant increase in debt, raising concerns about its financial stability.\"\n",
    "]"
   ]
  },
  {
   "cell_type": "code",
   "execution_count": null,
   "metadata": {},
   "outputs": [],
   "source": [
    "# Given risk categories\n",
    "risk_categories = {\n",
    "                \"Regulatory Risk\": r\"regulatory|compliance|legal|fines\",\n",
    "                \"Supply Chain Risk\": r\"supply chain|disruption|shortage|logistics\",\n",
    "                \"Market Risk\": r\"market|competition|demand|economic\",\n",
    "                \"Technology Risk\": r\"technology|innovation|cybersecurity|data breach\",\n",
    "                \"Financial Risk\": r\"financial|debt|liquidity|bankruptcy\",\n",
    "            }\n"
   ]
  },
  {
   "cell_type": "code",
   "execution_count": null,
   "metadata": {},
   "outputs": [],
   "source": [
    "from transformers import pipeline\n",
    "import re\n",
    "\n",
    "def generate_risk_report(news_articles):\n",
    "    \n",
    "\n",
    "    # Initialize sentiment analysis and text extraction pipelines\n",
    "    sentiment_pipeline = pipeline(\"sentiment-analysis\", model=\"distilbert-base-uncased-finetuned-sst-2-english\")\n",
    "    keyword_extraction = pipeline(\"text2text-generation\", model=\"google/flan-t5-base\")\n",
    "\n",
    "    risk_report = {\"Risks\": []}\n",
    "\n",
    "    for article in news_articles:\n",
    "        # Do some Sentiment Analysis\n",
    "        sentiment_result = sentiment_pipeline(article)[0]\n",
    "        if sentiment_result[\"label\"] == \"NEGATIVE\":\n",
    "            \n",
    "            # Extract keywords related to risk\n",
    "            keywords = keyword_extraction(f\"extract keywords related to risk: {article}\", max_length=50)[0]['generated_text']\n",
    "\n",
    "            identified_risks = []\n",
    "            for category, pattern in risk_categories.items():\n",
    "                if re.search(pattern, keywords, re.IGNORECASE):\n",
    "                    identified_risks.append(category)\n",
    "\n",
    "            # Report Generation\n",
    "            if identified_risks:\n",
    "                risk_report[\"Risks\"].append({\n",
    "                    \"Article\": article,\n",
    "                    \"Identified Risks\": identified_risks,\n",
    "                    \"Keywords\": keywords\n",
    "                })\n",
    "\n",
    "    return risk_report"
   ]
  },
  {
   "cell_type": "code",
   "execution_count": null,
   "metadata": {},
   "outputs": [],
   "source": [
    "# Generate risk report\n",
    "risk_report = generate_risk_report(news_articles)\n",
    "\n",
    "# Print the report\n",
    "import json\n",
    "print(json.dumps(risk_report, indent=4))"
   ]
  }
 ],
 "metadata": {
  "kernelspec": {
   "display_name": ".venv",
   "language": "python",
   "name": "python3"
  },
  "language_info": {
   "name": "python",
   "version": "3.11.9"
  }
 },
 "nbformat": 4,
 "nbformat_minor": 2
}
