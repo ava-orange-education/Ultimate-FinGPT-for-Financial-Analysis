{
 "cells": [
  {
   "cell_type": "code",
   "execution_count": null,
   "metadata": {},
   "outputs": [],
   "source": [
    "import re\n",
    "from transformers import pipeline"
   ]
  },
  {
   "cell_type": "code",
   "execution_count": null,
   "metadata": {},
   "outputs": [],
   "source": [
    "# Extracts KPIs and forward guidance using a Hugging Face model.\n",
    "def finmodel_extract_kpis_guidance(transcript):\n",
    "    \n",
    "    # Initialize a text summarization pipeline for the sample meta model\n",
    "    summarizer = pipeline(\"summarization\", model=\"facebook/bart-large-cnn\")\n",
    "\n",
    "    # Simulate KPI extraction (using regular expressions)\n",
    "    revenue_match = re.search(r\"revenue of \\$([\\d.]+)\", transcript, re.IGNORECASE)\n",
    "    eps_match = re.search(r\"earnings per share of \\$([\\d.]+)\", transcript, re.IGNORECASE)\n",
    "\n",
    "    kpis = {}\n",
    "    if revenue_match:\n",
    "        kpis[\"revenue\"] = float(revenue_match.group(1))\n",
    "    if eps_match:\n",
    "        kpis[\"eps\"] = float(eps_match.group(1))\n",
    "\n",
    "    # use Summarizer to get the transcript to extract forward guidance.\n",
    "    summary = summarizer(transcript, max_length=150, min_length=30, do_sample=False)[0]['summary_text']\n",
    "\n",
    "    # Attempt to extract forward guidance from the summary.\n",
    "    guidance_keywords = [\"guidance\", \"outlook\", \"expect\", \"project\", \"forecast\"]\n",
    "    guidance_sentences = []\n",
    "    for sentence in summary.split(\".\"):\n",
    "        if any(keyword in sentence.lower() for keyword in guidance_keywords):\n",
    "            guidance_sentences.append(sentence.strip())\n",
    "\n",
    "    guidance = \". \".join(guidance_sentences)\n",
    "\n",
    "    return kpis, guidance\n"
   ]
  },
  {
   "cell_type": "code",
   "execution_count": null,
   "metadata": {},
   "outputs": [],
   "source": [
    "# Sample earnings call transcript (fictitious)\n",
    "sample_transcript = \"\"\"\n",
    "During this quarter, we achieved a revenue of $150.5 million and an earnings per share of $2.25 only . \n",
    "We are pleased with our overall performance. Looking ahead, we expect revenue growth of 10-12% for the next fiscal year. \n",
    "Our outlook remains positive. We also project continued improvement in our profit margins. The CEO also mentioned a new product release.\n",
    "\"\"\"\n",
    "\n",
    "# Extract KPIs and guidance using Hugging Face model\n",
    "kpis, guidance = finmodel_extract_kpis_guidance(sample_transcript)\n"
   ]
  },
  {
   "cell_type": "code",
   "execution_count": null,
   "metadata": {},
   "outputs": [],
   "source": [
    "# Output results\n",
    "print(\"Extracted KPIs:\")\n",
    "print(kpis)\n",
    "print(\"\\nExtracted Forward Guidance:\")\n",
    "print(guidance)"
   ]
  },
  {
   "cell_type": "code",
   "execution_count": null,
   "metadata": {},
   "outputs": [],
   "source": []
  }
 ],
 "metadata": {
  "kernelspec": {
   "display_name": ".venv",
   "language": "python",
   "name": "python3"
  },
  "language_info": {
   "codemirror_mode": {
    "name": "ipython",
    "version": 3
   },
   "file_extension": ".py",
   "mimetype": "text/x-python",
   "name": "python",
   "nbconvert_exporter": "python",
   "pygments_lexer": "ipython3",
   "version": "3.11.9"
  }
 },
 "nbformat": 4,
 "nbformat_minor": 2
}
